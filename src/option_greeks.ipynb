{
 "cells": [
  {
   "cell_type": "markdown",
   "metadata": {},
   "source": [
    "[FROM HERE](https://www.youtube.com/watch?v=FKJNHy1HHDQ)"
   ]
  },
  {
   "cell_type": "markdown",
   "metadata": {},
   "source": [
    "Connect to TWS local - is must already started"
   ]
  },
  {
   "cell_type": "code",
   "execution_count": 9,
   "metadata": {},
   "outputs": [
    {
     "name": "stderr",
     "output_type": "stream",
     "text": [
      "Error 10090, reqId 4: Part of requested market data is not subscribed. Subscription-independent ticks are still active.Delayed market data is available.TSLA NASDAQ.NMS/TOP/ALL, contract: Option(conId=746816601, symbol='TSLA', lastTradeDateOrContractMonth='20250124', strike=220.0, right='C', multiplier='100', exchange='SMART', currency='USD', localSymbol='TSLA  250124C00220000', tradingClass='TSLA')\n",
      "Error 10090, reqId 6: Part of requested market data is not subscribed. Subscription-independent ticks are still active.Delayed market data is available.TSLA NASDAQ.NMS/TOP/ALL, contract: Option(conId=746484129, symbol='TSLA', lastTradeDateOrContractMonth='20250124', strike=400.0, right='C', multiplier='100', exchange='SMART', currency='USD', localSymbol='TSLA  250124C00400000', tradingClass='TSLA')\n",
      "Error 10090, reqId 8: Part of requested market data is not subscribed. Subscription-independent ticks are still active.Delayed market data is available.TSLA NASDAQ.NMS/TOP/ALL, contract: Option(conId=746485915, symbol='TSLA', lastTradeDateOrContractMonth='20250124', strike=400.0, right='P', multiplier='100', exchange='SMART', currency='USD', localSymbol='TSLA  250124P00400000', tradingClass='TSLA')\n"
     ]
    }
   ],
   "source": [
    "from ib_insync import *\n",
    "from ibapi.common import TickerId, SetOfFloat, SetOfString, MarketDataTypeEnum\n",
    "\n",
    "util.startLoop()\n",
    "\n",
    "ib = IB()\n",
    "ib.connect(port=7496, clientId=2)\n",
    "ib.reqMarketDataType(MarketDataTypeEnum.DELAYED)\n",
    "\n"
   ]
  },
  {
   "cell_type": "markdown",
   "metadata": {},
   "source": [
    "Define the option contract"
   ]
  },
  {
   "cell_type": "code",
   "execution_count": 18,
   "metadata": {},
   "outputs": [
    {
     "data": {
      "text/plain": [
       "[Option(conId=746485915, symbol='TSLA', lastTradeDateOrContractMonth='20250124', strike=400.0, right='P', multiplier='100', exchange='SMART', currency='USD', localSymbol='TSLA  250124P00400000', tradingClass='TSLA')]"
      ]
     },
     "execution_count": 18,
     "metadata": {},
     "output_type": "execute_result"
    }
   ],
   "source": [
    "tsla_call = Option(symbol='TSLA',lastTradeDateOrContractMonth='20250124',strike=400,right='P',exchange='SMART',currency='USD')\n",
    "ib.qualifyContracts(tsla_call)\n",
    "\n"
   ]
  },
  {
   "cell_type": "markdown",
   "metadata": {},
   "source": [
    "Subscribe to Mkt data"
   ]
  },
  {
   "cell_type": "code",
   "execution_count": 19,
   "metadata": {},
   "outputs": [],
   "source": [
    "tsla_call_ticker = ib.reqMktData(tsla_call,\"\",False,False)\n"
   ]
  },
  {
   "cell_type": "markdown",
   "metadata": {},
   "source": [
    "Types of Greeks/IV/Option Price"
   ]
  },
  {
   "cell_type": "markdown",
   "metadata": {},
   "source": [
    "bidGreeks"
   ]
  },
  {
   "cell_type": "code",
   "execution_count": 20,
   "metadata": {},
   "outputs": [
    {
     "data": {
      "text/plain": [
       "OptionComputation(tickAttrib=0, impliedVol=0.6430625001264895, delta=-0.19521345757975386, optPrice=1.3700000047683716, pvDividend=0.0, gamma=0.01842890660875336, vega=0.061205237503040966, theta=-1.3700000047683716, undPrice=412.375)"
      ]
     },
     "execution_count": 20,
     "metadata": {},
     "output_type": "execute_result"
    }
   ],
   "source": [
    "tsla_call_ticker.bidGreeks"
   ]
  },
  {
   "cell_type": "markdown",
   "metadata": {},
   "source": [
    "askGreeks"
   ]
  },
  {
   "cell_type": "code",
   "execution_count": 21,
   "metadata": {},
   "outputs": [
    {
     "data": {
      "text/plain": [
       "OptionComputation(tickAttrib=0, impliedVol=0.6496171363196918, delta=-0.20081039611295626, optPrice=1.399999976158142, pvDividend=0.0, gamma=0.01859541421226032, vega=0.061241501493937145, theta=-1.399999976158142, undPrice=412.1763916015625)"
      ]
     },
     "execution_count": 21,
     "metadata": {},
     "output_type": "execute_result"
    }
   ],
   "source": [
    "tsla_call_ticker.askGreeks"
   ]
  },
  {
   "cell_type": "markdown",
   "metadata": {},
   "source": [
    "ask price"
   ]
  },
  {
   "cell_type": "code",
   "execution_count": 26,
   "metadata": {},
   "outputs": [
    {
     "data": {
      "text/plain": [
       "1.5800000429153442"
      ]
     },
     "execution_count": 26,
     "metadata": {},
     "output_type": "execute_result"
    }
   ],
   "source": [
    "tsla_call_ticker.askGreeks.optPrice\n"
   ]
  },
  {
   "cell_type": "markdown",
   "metadata": {},
   "source": [
    "bid price"
   ]
  },
  {
   "cell_type": "code",
   "execution_count": 25,
   "metadata": {},
   "outputs": [
    {
     "data": {
      "text/plain": [
       "1.559999942779541"
      ]
     },
     "execution_count": 25,
     "metadata": {},
     "output_type": "execute_result"
    }
   ],
   "source": [
    "tsla_call_ticker.bidGreeks.optPrice"
   ]
  }
 ],
 "metadata": {
  "kernelspec": {
   "display_name": ".venv",
   "language": "python",
   "name": "python3"
  },
  "language_info": {
   "codemirror_mode": {
    "name": "ipython",
    "version": 3
   },
   "file_extension": ".py",
   "mimetype": "text/x-python",
   "name": "python",
   "nbconvert_exporter": "python",
   "pygments_lexer": "ipython3",
   "version": "3.11.2"
  }
 },
 "nbformat": 4,
 "nbformat_minor": 2
}
