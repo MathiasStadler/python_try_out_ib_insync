{
 "cells": [
  {
   "cell_type": "markdown",
   "metadata": {},
   "source": [
    "[FROM HERE](https://www.youtube.com/watch?v=FKJNHy1HHDQ)"
   ]
  },
  {
   "cell_type": "markdown",
   "metadata": {},
   "source": [
    "Connect to TWS local - is must already started"
   ]
  },
  {
   "cell_type": "code",
   "execution_count": 9,
   "metadata": {},
   "outputs": [
    {
     "name": "stderr",
     "output_type": "stream",
     "text": [
      "Error 10090, reqId 4: Part of requested market data is not subscribed. Subscription-independent ticks are still active.Delayed market data is available.TSLA NASDAQ.NMS/TOP/ALL, contract: Option(conId=746816601, symbol='TSLA', lastTradeDateOrContractMonth='20250124', strike=220.0, right='C', multiplier='100', exchange='SMART', currency='USD', localSymbol='TSLA  250124C00220000', tradingClass='TSLA')\n",
      "Error 10090, reqId 6: Part of requested market data is not subscribed. Subscription-independent ticks are still active.Delayed market data is available.TSLA NASDAQ.NMS/TOP/ALL, contract: Option(conId=746484129, symbol='TSLA', lastTradeDateOrContractMonth='20250124', strike=400.0, right='C', multiplier='100', exchange='SMART', currency='USD', localSymbol='TSLA  250124C00400000', tradingClass='TSLA')\n",
      "Error 10090, reqId 8: Part of requested market data is not subscribed. Subscription-independent ticks are still active.Delayed market data is available.TSLA NASDAQ.NMS/TOP/ALL, contract: Option(conId=746485915, symbol='TSLA', lastTradeDateOrContractMonth='20250124', strike=400.0, right='P', multiplier='100', exchange='SMART', currency='USD', localSymbol='TSLA  250124P00400000', tradingClass='TSLA')\n"
     ]
    }
   ],
   "source": [
    "from ib_insync import *\n",
    "from ibapi.common import TickerId, SetOfFloat, SetOfString, MarketDataTypeEnum\n",
    "\n",
    "util.startLoop()\n",
    "\n",
    "ib = IB()\n",
    "ib.connect(port=7496, clientId=2)\n",
    "ib.reqMarketDataType(MarketDataTypeEnum.DELAYED)\n",
    "\n"
   ]
  },
  {
   "cell_type": "markdown",
   "metadata": {},
   "source": [
    "Define the option contract"
   ]
  },
  {
   "cell_type": "code",
   "execution_count": 18,
   "metadata": {},
   "outputs": [
    {
     "data": {
      "text/plain": [
       "[Option(conId=746485915, symbol='TSLA', lastTradeDateOrContractMonth='20250124', strike=400.0, right='P', multiplier='100', exchange='SMART', currency='USD', localSymbol='TSLA  250124P00400000', tradingClass='TSLA')]"
      ]
     },
     "execution_count": 18,
     "metadata": {},
     "output_type": "execute_result"
    }
   ],
   "source": [
    "tsla_call = Option(symbol='TSLA',lastTradeDateOrContractMonth='20250124',strike=400,right='P',exchange='SMART',currency='USD')\n",
    "ib.qualifyContracts(tsla_call)\n",
    "\n"
   ]
  },
  {
   "cell_type": "markdown",
   "metadata": {},
   "source": [
    "Subscribe to Mkt data"
   ]
  },
  {
   "cell_type": "code",
   "execution_count": 19,
   "metadata": {},
   "outputs": [],
   "source": [
    "tsla_call_ticker = ib.reqMktData(tsla_call,\"\",False,False)\n"
   ]
  },
  {
   "cell_type": "markdown",
   "metadata": {},
   "source": [
    "Types of Greeks/IV/Option Price"
   ]
  },
  {
   "cell_type": "markdown",
   "metadata": {},
   "source": [
    "bidGreeks"
   ]
  },
  {
   "cell_type": "code",
   "execution_count": 20,
   "metadata": {},
   "outputs": [
    {
     "data": {
      "text/plain": [
       "OptionComputation(tickAttrib=0, impliedVol=0.6430625001264895, delta=-0.19521345757975386, optPrice=1.3700000047683716, pvDividend=0.0, gamma=0.01842890660875336, vega=0.061205237503040966, theta=-1.3700000047683716, undPrice=412.375)"
      ]
     },
     "execution_count": 20,
     "metadata": {},
     "output_type": "execute_result"
    }
   ],
   "source": [
    "tsla_call_ticker.bidGreeks"
   ]
  },
  {
   "cell_type": "markdown",
   "metadata": {},
   "source": [
    "askGreeks"
   ]
  },
  {
   "cell_type": "code",
   "execution_count": 21,
   "metadata": {},
   "outputs": [
    {
     "data": {
      "text/plain": [
       "OptionComputation(tickAttrib=0, impliedVol=0.6496171363196918, delta=-0.20081039611295626, optPrice=1.399999976158142, pvDividend=0.0, gamma=0.01859541421226032, vega=0.061241501493937145, theta=-1.399999976158142, undPrice=412.1763916015625)"
      ]
     },
     "execution_count": 21,
     "metadata": {},
     "output_type": "execute_result"
    }
   ],
   "source": [
    "tsla_call_ticker.askGreeks"
   ]
  },
  {
   "cell_type": "markdown",
   "metadata": {},
   "source": [
    "ask price"
   ]
  },
  {
   "cell_type": "code",
   "execution_count": 26,
   "metadata": {},
   "outputs": [
    {
     "data": {
      "text/plain": [
       "1.5800000429153442"
      ]
     },
     "execution_count": 26,
     "metadata": {},
     "output_type": "execute_result"
    }
   ],
   "source": [
    "tsla_call_ticker.askGreeks.optPrice\n"
   ]
  },
  {
   "cell_type": "markdown",
   "metadata": {},
   "source": [
    "bid price"
   ]
  },
  {
   "cell_type": "code",
   "execution_count": 25,
   "metadata": {},
   "outputs": [
    {
     "data": {
      "text/plain": [
       "1.559999942779541"
      ]
     },
     "execution_count": 25,
     "metadata": {},
     "output_type": "execute_result"
    }
   ],
   "source": [
    "tsla_call_ticker.bidGreeks.optPrice"
   ]
  },
  {
   "cell_type": "code",
   "execution_count": 27,
   "metadata": {},
   "outputs": [
    {
     "data": {
      "text/plain": [
       "OptionComputation(tickAttrib=0, impliedVol=0.6403559730360511, delta=-0.20266880483028052, optPrice=1.75, pvDividend=0.0, gamma=0.019062170168703044, vega=0.06556930879672618, theta=-1.75, undPrice=411.8559875488281)"
      ]
     },
     "execution_count": 27,
     "metadata": {},
     "output_type": "execute_result"
    }
   ],
   "source": [
    "tsla_call_ticker.lastGreeks"
   ]
  },
  {
   "cell_type": "code",
   "execution_count": 28,
   "metadata": {},
   "outputs": [
    {
     "data": {
      "text/plain": [
       "''"
      ]
     },
     "execution_count": 28,
     "metadata": {},
     "output_type": "execute_result"
    }
   ],
   "source": [
    "tsla_call_ticker.lastExchange"
   ]
  },
  {
   "cell_type": "code",
   "execution_count": 29,
   "metadata": {},
   "outputs": [
    {
     "data": {
      "text/plain": [
       "(1.0, nan)"
      ]
     },
     "execution_count": 29,
     "metadata": {},
     "output_type": "execute_result"
    }
   ],
   "source": [
    "tsla_call_ticker.lastSize,tsla_call_ticker.lastYield"
   ]
  },
  {
   "cell_type": "markdown",
   "metadata": {},
   "source": [
    "Model Based"
   ]
  },
  {
   "cell_type": "code",
   "execution_count": 30,
   "metadata": {},
   "outputs": [
    {
     "data": {
      "text/plain": [
       "OptionComputation(tickAttrib=0, impliedVol=0.6381678443818203, delta=-0.20064340530592356, optPrice=1.689622711556367, pvDividend=0.0, gamma=0.019055447208411617, vega=0.061101188338605894, theta=-1.663440514190794, undPrice=411.86163330078125)"
      ]
     },
     "execution_count": 30,
     "metadata": {},
     "output_type": "execute_result"
    }
   ],
   "source": [
    "tsla_call_ticker.modelGreeks"
   ]
  },
  {
   "cell_type": "code",
   "execution_count": 31,
   "metadata": {},
   "outputs": [],
   "source": [
    "model_greeks=tsla_call_ticker.modelGreeks\n",
    "opt_price=model_greeks.optPrice\n",
    "und_price=model_greeks.undPrice\n",
    "delta=model_greeks.delta\n",
    "gamma=model_greeks.gamma\n",
    "imp_vol =model_greeks.impliedVol"
   ]
  },
  {
   "cell_type": "markdown",
   "metadata": {},
   "source": [
    "calcImpliedVolatility"
   ]
  },
  {
   "cell_type": "code",
   "execution_count": 32,
   "metadata": {},
   "outputs": [
    {
     "data": {
      "text/plain": [
       "OptionComputation(tickAttrib=0, impliedVol=0.6296917441458623, delta=None, optPrice=1.4693451682589949, pvDividend=None, gamma=None, vega=-2.0, theta=-2.0, undPrice=412.7826232910156)"
      ]
     },
     "execution_count": 32,
     "metadata": {},
     "output_type": "execute_result"
    }
   ],
   "source": [
    "ib.calculateImpliedVolatility(tsla_call,opt_price,und_price)"
   ]
  }
 ],
 "metadata": {
  "kernelspec": {
   "display_name": ".venv",
   "language": "python",
   "name": "python3"
  },
  "language_info": {
   "codemirror_mode": {
    "name": "ipython",
    "version": 3
   },
   "file_extension": ".py",
   "mimetype": "text/x-python",
   "name": "python",
   "nbconvert_exporter": "python",
   "pygments_lexer": "ipython3",
   "version": "3.11.2"
  }
 },
 "nbformat": 4,
 "nbformat_minor": 2
}
