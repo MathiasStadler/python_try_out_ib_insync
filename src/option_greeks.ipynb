{
 "cells": [
  {
   "cell_type": "markdown",
   "metadata": {},
   "source": [
    "[FROM HERE](https://www.youtube.com/watch?v=FKJNHy1HHDQ)"
   ]
  },
  {
   "cell_type": "markdown",
   "metadata": {},
   "source": [
    "Connect to TWS local - is must already started"
   ]
  },
  {
   "cell_type": "code",
   "execution_count": 36,
   "metadata": {},
   "outputs": [],
   "source": [
    "from ib_insync import *\n",
    "from ibapi.common import TickerId, SetOfFloat, SetOfString, MarketDataTypeEnum\n",
    "\n",
    "util.startLoop()\n",
    "\n",
    "ib = IB()\n",
    "ib.connect(port=7496, clientId=4)\n",
    "ib.reqMarketDataType(MarketDataTypeEnum.DELAYED)\n",
    "\n"
   ]
  },
  {
   "cell_type": "markdown",
   "metadata": {},
   "source": [
    "Define the option contract"
   ]
  },
  {
   "cell_type": "code",
   "execution_count": 37,
   "metadata": {},
   "outputs": [
    {
     "data": {
      "text/plain": [
       "[Option(conId=746485915, symbol='TSLA', lastTradeDateOrContractMonth='20250124', strike=400.0, right='P', multiplier='100', exchange='SMART', currency='USD', localSymbol='TSLA  250124P00400000', tradingClass='TSLA')]"
      ]
     },
     "execution_count": 37,
     "metadata": {},
     "output_type": "execute_result"
    }
   ],
   "source": [
    "tsla_call = Option(symbol='TSLA',lastTradeDateOrContractMonth='20250124',strike=400,right='P',exchange='SMART',currency='USD')\n",
    "ib.qualifyContracts(tsla_call)\n",
    "\n"
   ]
  },
  {
   "cell_type": "markdown",
   "metadata": {},
   "source": [
    "Subscribe to Mkt data"
   ]
  },
  {
   "cell_type": "code",
   "execution_count": 38,
   "metadata": {},
   "outputs": [],
   "source": [
    "tsla_call_ticker = ib.reqMktData(tsla_call,\"\",False,False)\n"
   ]
  },
  {
   "cell_type": "markdown",
   "metadata": {},
   "source": [
    "Types of Greeks/IV/Option Price"
   ]
  },
  {
   "cell_type": "markdown",
   "metadata": {},
   "source": [
    "bidGreeks"
   ]
  },
  {
   "cell_type": "code",
   "execution_count": 42,
   "metadata": {},
   "outputs": [
    {
     "data": {
      "text/plain": [
       "OptionComputation(tickAttrib=0, impliedVol=0.6209372371503468, delta=-0.22007999225282845, optPrice=1.7699999809265137, pvDividend=0.0, gamma=0.020899882017011377, vega=0.07052141638457488, theta=-1.7699999809265137, undPrice=410.5299987792969)"
      ]
     },
     "execution_count": 42,
     "metadata": {},
     "output_type": "execute_result"
    }
   ],
   "source": [
    "tsla_call_ticker.bidGreeks"
   ]
  },
  {
   "cell_type": "markdown",
   "metadata": {},
   "source": [
    "askGreeks"
   ]
  },
  {
   "cell_type": "code",
   "execution_count": 43,
   "metadata": {},
   "outputs": [
    {
     "data": {
      "text/plain": [
       "OptionComputation(tickAttrib=0, impliedVol=0.6252015001617747, delta=-0.22162701372199242, optPrice=1.7999999523162842, pvDividend=0.0, gamma=0.020835941968818838, vega=0.070524087969841, theta=-1.7999999523162842, undPrice=410.5299987792969)"
      ]
     },
     "execution_count": 43,
     "metadata": {},
     "output_type": "execute_result"
    }
   ],
   "source": [
    "tsla_call_ticker.askGreeks"
   ]
  },
  {
   "cell_type": "markdown",
   "metadata": {},
   "source": [
    "ask price"
   ]
  },
  {
   "cell_type": "code",
   "execution_count": 44,
   "metadata": {},
   "outputs": [
    {
     "data": {
      "text/plain": [
       "1.7999999523162842"
      ]
     },
     "execution_count": 44,
     "metadata": {},
     "output_type": "execute_result"
    }
   ],
   "source": [
    "tsla_call_ticker.askGreeks.optPrice\n"
   ]
  },
  {
   "cell_type": "markdown",
   "metadata": {},
   "source": [
    "bid price"
   ]
  },
  {
   "cell_type": "code",
   "execution_count": 45,
   "metadata": {},
   "outputs": [
    {
     "data": {
      "text/plain": [
       "1.7699999809265137"
      ]
     },
     "execution_count": 45,
     "metadata": {},
     "output_type": "execute_result"
    }
   ],
   "source": [
    "tsla_call_ticker.bidGreeks.optPrice"
   ]
  },
  {
   "cell_type": "code",
   "execution_count": 46,
   "metadata": {},
   "outputs": [
    {
     "data": {
      "text/plain": [
       "OptionComputation(tickAttrib=0, impliedVol=0.6212569908508947, delta=-0.222577010290338, optPrice=1.8899999856948853, pvDividend=0.0, gamma=0.02102263884926956, vega=0.07051435624122493, theta=-1.8609067640493697, undPrice=410.4200134277344)"
      ]
     },
     "execution_count": 46,
     "metadata": {},
     "output_type": "execute_result"
    }
   ],
   "source": [
    "tsla_call_ticker.lastGreeks"
   ]
  },
  {
   "cell_type": "code",
   "execution_count": 47,
   "metadata": {},
   "outputs": [
    {
     "data": {
      "text/plain": [
       "''"
      ]
     },
     "execution_count": 47,
     "metadata": {},
     "output_type": "execute_result"
    }
   ],
   "source": [
    "tsla_call_ticker.lastExchange"
   ]
  },
  {
   "cell_type": "code",
   "execution_count": 48,
   "metadata": {},
   "outputs": [
    {
     "data": {
      "text/plain": [
       "(1.0, nan)"
      ]
     },
     "execution_count": 48,
     "metadata": {},
     "output_type": "execute_result"
    }
   ],
   "source": [
    "tsla_call_ticker.lastSize,tsla_call_ticker.lastYield"
   ]
  },
  {
   "cell_type": "markdown",
   "metadata": {},
   "source": [
    "Model Based"
   ]
  },
  {
   "cell_type": "code",
   "execution_count": null,
   "metadata": {},
   "outputs": [],
   "source": [
    "tsla_call_ticker.modelGreeks"
   ]
  },
  {
   "cell_type": "code",
   "execution_count": 49,
   "metadata": {},
   "outputs": [],
   "source": [
    "model_greeks = tsla_call_ticker.modelGreeks\n",
    "opt_price = model_greeks.optPrice\n",
    "und_price = model_greeks.undPrice\n",
    "delta = model_greeks.delta\n",
    "gamma = model_greeks.gamma\n",
    "imp_vol = model_greeks.impliedVol"
   ]
  },
  {
   "cell_type": "markdown",
   "metadata": {},
   "source": [
    "calcImpliedVolatility"
   ]
  },
  {
   "cell_type": "code",
   "execution_count": 50,
   "metadata": {},
   "outputs": [
    {
     "data": {
      "text/plain": [
       "OptionComputation(tickAttrib=0, impliedVol=0.6236642444466451, delta=None, optPrice=1.9381665683417397, pvDividend=None, gamma=None, vega=-2.0, theta=-2.0, undPrice=410.159423828125)"
      ]
     },
     "execution_count": 50,
     "metadata": {},
     "output_type": "execute_result"
    }
   ],
   "source": [
    "ib.calculateImpliedVolatility(tsla_call,opt_price,und_price)"
   ]
  },
  {
   "cell_type": "markdown",
   "metadata": {},
   "source": [
    "### calcOptionPrice\n",
    "\n"
   ]
  },
  {
   "cell_type": "code",
   "execution_count": 53,
   "metadata": {},
   "outputs": [
    {
     "data": {
      "text/plain": [
       "np.float64(415.0)"
      ]
     },
     "execution_count": 53,
     "metadata": {},
     "output_type": "execute_result"
    }
   ],
   "source": [
    "\n",
    "import numpy as np\n",
    "price_change = 5\n",
    "new_price = np.round(price_change + und_price)\n",
    "new_price"
   ]
  },
  {
   "cell_type": "code",
   "execution_count": 54,
   "metadata": {},
   "outputs": [
    {
     "data": {
      "text/plain": [
       "(1.9381665683417397,\n",
       " OptionComputation(tickAttrib=0, impliedVol=0.6249408934271509, delta=-0.14002790935477974, optPrice=1.0501340021633927, pvDividend=None, gamma=0.015461444875446574, vega=0.049272182137681364, theta=-1.0501340021633927, undPrice=415.0))"
      ]
     },
     "execution_count": 54,
     "metadata": {},
     "output_type": "execute_result"
    }
   ],
   "source": [
    "opt_price,ib.calculateOptionPrice(tsla_call,imp_vol,new_price)"
   ]
  },
  {
   "cell_type": "markdown",
   "metadata": {},
   "source": [
    "### CancelMarketData"
   ]
  },
  {
   "cell_type": "code",
   "execution_count": 55,
   "metadata": {},
   "outputs": [],
   "source": [
    "ib.cancelMktData(tsla_call)"
   ]
  },
  {
   "cell_type": "markdown",
   "metadata": {},
   "source": [
    "### Disconnect from IB"
   ]
  },
  {
   "cell_type": "code",
   "execution_count": 56,
   "metadata": {},
   "outputs": [],
   "source": [
    "ib.disconnect()"
   ]
  }
 ],
 "metadata": {
  "kernelspec": {
   "display_name": ".venv",
   "language": "python",
   "name": "python3"
  },
  "language_info": {
   "codemirror_mode": {
    "name": "ipython",
    "version": 3
   },
   "file_extension": ".py",
   "mimetype": "text/x-python",
   "name": "python",
   "nbconvert_exporter": "python",
   "pygments_lexer": "ipython3",
   "version": "3.11.2"
  }
 },
 "nbformat": 4,
 "nbformat_minor": 2
}
